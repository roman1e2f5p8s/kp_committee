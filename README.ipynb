{
 "cells": [
  {
   "cell_type": "markdown",
   "id": "interstate-kuwait",
   "metadata": {},
   "source": [
    "# Knapsack problem and committee selection"
   ]
  },
  {
   "cell_type": "markdown",
   "id": "parental-pastor",
   "metadata": {},
   "source": [
    "## Problem formulation"
   ]
  },
  {
   "cell_type": "markdown",
   "id": "interim-marshall",
   "metadata": {},
   "source": [
    "There is a committee with $N$ seats. An adversary wants to select certain seats at a minimum cost in order to stop/overtake the committee."
   ]
  },
  {
   "cell_type": "markdown",
   "id": "wound-characterization",
   "metadata": {},
   "source": [
    "Let $C_i$ denote the cost of selecting seat $i$, and $W_i$ denote the weight (voting power) of seat $i, i \\in \\{1,2,...,N\\}$. Define $u_i$ to be a binary variable (i.e. $u_i \\in \\{0, 1\\}$) representing whether seat $i$ is going to be selected or not. That is, $u_i$ are our decision variables: if $u_i=0$, seat $i$ shall not be selected, and if $u_i=1$, seat $i$ shall be selected."
   ]
  },
  {
   "cell_type": "markdown",
   "id": "sensitive-collectible",
   "metadata": {},
   "source": [
    "The total voting power of the committee with $N$ seats is:\n",
    "\\begin{equation}\n",
    "    \\sum_{i=1}^{N}W_i\n",
    "\\end{equation}"
   ]
  },
  {
   "cell_type": "markdown",
   "id": "separated-blast",
   "metadata": {},
   "source": [
    "The obtained voting power by adversary is defined as follows:\n",
    "\\begin{equation}\n",
    "    \\sum_{i=1}^{N}W_iu_i,\n",
    "\\end{equation}\n",
    "and the cost of this is\n",
    "\\begin{equation}\n",
    "    \\sum_{i=1}^{N}C_iu_i,\n",
    "\\end{equation}"
   ]
  },
  {
   "cell_type": "markdown",
   "id": "fewer-wesley",
   "metadata": {},
   "source": [
    "We are interested in two scenarios:\n",
    "1. In order to **stop** the committee, the adversary needs to obtain 1/3 or more of the total voting power.\n",
    "2. In order to **overtake** the committee, the adversary needs to obtain more than 2/3 of the total voting power."
   ]
  },
  {
   "cell_type": "markdown",
   "id": "quick-evidence",
   "metadata": {},
   "source": [
    "Define $\\alpha \\in \\{1/3, 2/3\\}$.\n",
    "We now formulate the following optimization problem\n",
    "\\begin{equation}\n",
    "    \\text{Minimize} \\sum_{i=1}^{N}C_iu_i\\\\\n",
    "    \\text{subject to} \\sum_{i=1}^{N}W_iu_i \\geq \\alpha\\sum_{i=1}^{N}W_i,\\\\\n",
    "    u_i \\in \\{0, 1\\}. \n",
    "\\end{equation}"
   ]
  },
  {
   "cell_type": "markdown",
   "id": "black-effects",
   "metadata": {},
   "source": [
    "In the relevant literature, this problem is known as a **minimization knapsack problem**."
   ]
  },
  {
   "cell_type": "markdown",
   "id": "floppy-coach",
   "metadata": {},
   "source": [
    "## Implementation"
   ]
  },
  {
   "cell_type": "markdown",
   "id": "hispanic-consciousness",
   "metadata": {},
   "source": [
    "The coding language of this project is ```Python 3.9```. [Pyomo](http://www.pyomo.org/) and [GLPK](https://www.gnu.org/software/glpk/) are used to solve the optimzation problem."
   ]
  },
  {
   "cell_type": "markdown",
   "id": "embedded-capacity",
   "metadata": {},
   "source": [
    "## Getting Started\n",
    "Please follow these instructions to install all the requirements and use the package correctly."
   ]
  },
  {
   "cell_type": "markdown",
   "id": "brief-macintosh",
   "metadata": {},
   "source": [
    "### Requirements and Installation\n",
    "**Make sure you have installed:**\n",
    "1. [Python 3.9](https://www.python.org/downloads/release/python-390/)\n",
    "2. [GLPK](https://www.gnu.org/software/glpk/)\n",
    "\n",
    "**Download the code:**\n",
    "```bash\n",
    "git clone https://github.com/roman1e2f5p8s/kp_committee\n",
    "```\n",
    "\n",
    "**Create a virtual environment ```venv```:**\n",
    "```bash\n",
    "python3.9 -m venv venv\n",
    "```\n",
    "\n",
    "**Activate the virtual environment:**\n",
    "- On Unix or MacOS:\n",
    "```bash\n",
    "source venv/bin/activate\n",
    "```\n",
    "- On Windows:\n",
    "```bash\n",
    "venv\\Scripts\\activate.bat\n",
    "```\n",
    "\n",
    "**Install the dependencies:**\n",
    "```bash\n",
    "pip3.9 install -r requirements.txt\n",
    "```"
   ]
  },
  {
   "cell_type": "markdown",
   "id": "twenty-legislature",
   "metadata": {},
   "source": [
    "## Usage\n",
    "\n",
    "See help files for more details:\n",
    "\n",
    "```bash\n",
    "python main.py --help\n",
    "```\n",
    "\n",
    "```\n",
    "usage: main.py --n_nodes {4,5,...} --n_seats {4,5,...} --mode {stop,overtake} [-h]\n",
    "               [--seed {1,2,...}] [--max_weight {1,2,...,20}] [--solver SOLVER] [--latex]\n",
    "               [--hide_plots]\n",
    "\n",
    "Solves Knapsack problem for committee selection\n",
    "\n",
    "required arguments:\n",
    "  --n_nodes {4,5,...}        number of nodes in the network\n",
    "  --n_seats {4,5,...}        number of seats in the committee\n",
    "  --mode {stop,overtake}     mode to simulate: either stop or overtake the committee\n",
    "\n",
    "optional arguments:\n",
    "  -h, --help                 show this help message and exit\n",
    "  --seed {1,2,...}           seed for random generator, defaults to 2021\n",
    "  --max_weight {1,2,...,20}  maximum value of voting power, defaults to 20\n",
    "  --solver SOLVER            solver name, defaults to glpk\n",
    "  --latex                    use LaTeX in plots, defaults to False\n",
    "  --hide_plots               do not show plots, defaults to False\n",
    "```"
   ]
  },
  {
   "cell_type": "code",
   "execution_count": null,
   "id": "alive-probe",
   "metadata": {},
   "outputs": [],
   "source": []
  }
 ],
 "metadata": {
  "kernelspec": {
   "display_name": "Python 3",
   "language": "python",
   "name": "python3"
  },
  "language_info": {
   "codemirror_mode": {
    "name": "ipython",
    "version": 3
   },
   "file_extension": ".py",
   "mimetype": "text/x-python",
   "name": "python",
   "nbconvert_exporter": "python",
   "pygments_lexer": "ipython3",
   "version": "3.9.6"
  }
 },
 "nbformat": 4,
 "nbformat_minor": 5
}
